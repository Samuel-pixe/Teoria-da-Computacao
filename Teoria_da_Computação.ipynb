{
  "nbformat": 4,
  "nbformat_minor": 0,
  "metadata": {
    "colab": {
      "name": "Teoria-da-Computação.ipynb",
      "provenance": [],
      "collapsed_sections": [
        "jxM2qQS9JY3T",
        "3fVwyR8YNght",
        "zTonIbb0Rvbf",
        "xmIk1xR1ZyLt",
        "xLVQKX0Ec-RU"
      ],
      "authorship_tag": "ABX9TyP72oJ5J/fGocwEF5PXwJPe",
      "include_colab_link": true
    },
    "kernelspec": {
      "name": "python3",
      "display_name": "Python 3"
    },
    "language_info": {
      "name": "python"
    }
  },
  "cells": [
    {
      "cell_type": "markdown",
      "metadata": {
        "id": "view-in-github",
        "colab_type": "text"
      },
      "source": [
        "<a href=\"https://colab.research.google.com/github/Samuel-pixe/Teoria-da-Computacao/blob/main/Teoria_da_Computa%C3%A7%C3%A3o.ipynb\" target=\"_parent\"><img src=\"https://colab.research.google.com/assets/colab-badge.svg\" alt=\"Open In Colab\"/></a>"
      ]
    },
    {
      "cell_type": "markdown",
      "source": [
        "#Fundamentos"
      ],
      "metadata": {
        "id": "jxM2qQS9JY3T"
      }
    },
    {
      "cell_type": "code",
      "execution_count": null,
      "metadata": {
        "id": "gqnCeLlOJJkL"
      },
      "outputs": [],
      "source": [
        "#Tipagem dinâmica\n",
        "a = 1\n",
        "print(type(a))\n",
        "a = \"1\"\n",
        "print(type(a))\n",
        "a = 1.0\n",
        "print(type(a))"
      ]
    },
    {
      "cell_type": "code",
      "source": [
        "s = \"Engenharia da Computação\"\n",
        "\n",
        "print(s[0])\n",
        "print(s[0:5])\n",
        "print(s[10:14])\n",
        "print(s[:5])\n",
        "\n",
        "print(s[-3:])\n",
        "print(s[0:11]*10)\n",
        "print ('ç' in s)"
      ],
      "metadata": {
        "id": "vX9DKS-UNpt8"
      },
      "execution_count": null,
      "outputs": []
    },
    {
      "cell_type": "code",
      "source": [
        "s = 'Abcde   '\n",
        "\n",
        "print(ord(s[0]))  \n",
        "print(len(s))\n",
        "print(len(s.strip()))\n",
        "print(s.upper())\n",
        "print(s.lower())"
      ],
      "metadata": {
        "id": "eN9RgocLPzot"
      },
      "execution_count": null,
      "outputs": []
    },
    {
      "cell_type": "code",
      "source": [
        "s1 = '1'\n",
        "s2 = '2'\n",
        "\n",
        "print(s1+s2)\n",
        "\n",
        "n = int(s1)+int(s2)\n",
        "print(n)\n",
        "\n",
        "print(s1+s2+str(n))"
      ],
      "metadata": {
        "id": "a09SgEweRrec"
      },
      "execution_count": null,
      "outputs": []
    },
    {
      "cell_type": "code",
      "source": [
        "#entrada de dados\n",
        "num1 = float(input('Informe um valor'))\n",
        "num2 = float(input('Informe um valor'))\n",
        "soma = num1+num2\n",
        "\n",
        "print(\"Soma= %.2f\" %soma)\n",
        "\n",
        "print(\"A soma de {} e {} é igual a {}\".format(num1,num2,soma))"
      ],
      "metadata": {
        "id": "g6OcsZhaJXSp"
      },
      "execution_count": null,
      "outputs": []
    },
    {
      "cell_type": "code",
      "source": [
        "a = 2\n",
        "b = 3\n",
        "c = 1\n",
        "\n",
        "if a > b:\n",
        "  if a > c:\n",
        "    print('a é o maior')\n",
        "  else:\n",
        "    print('c é o maior')\n",
        "else:\n",
        "  if b > c:\n",
        "    print('b é o maior')\n",
        "  else:\n",
        "    print('c é o maior')\n",
        "\n"
      ],
      "metadata": {
        "id": "oud3_mWhLtys"
      },
      "execution_count": null,
      "outputs": []
    },
    {
      "cell_type": "code",
      "source": [
        "nome = 'João da Silva'\n",
        "for letra in nome:\n",
        "  print(letra)"
      ],
      "metadata": {
        "id": "Ww5iiZMZNKho"
      },
      "execution_count": null,
      "outputs": []
    },
    {
      "cell_type": "code",
      "source": [
        "for i in range(5):\n",
        "  print(i)\n",
        "\n",
        "for i in range(1,11):\n",
        "  print(i)\n",
        "\n",
        "for i in range(1,11,2):\n",
        "  print(i)\n",
        "\n",
        "for i in range(10,0,-1):\n",
        "  print(i)"
      ],
      "metadata": {
        "id": "cIef6N5tNiKt"
      },
      "execution_count": null,
      "outputs": []
    },
    {
      "cell_type": "code",
      "source": [
        "cont = 0\n",
        "while True:\n",
        "  try:\n",
        "    n = int(input('Entre com número: '))\n",
        "    cont = cont + 1\n",
        "  except Exception as erro:\n",
        "    print('A entrada não é um número.')\n",
        "    print(erro)\n",
        "  finally:\n",
        "    if cont == 3:\n",
        "      break;"
      ],
      "metadata": {
        "id": "oqWcc1i1QLNU"
      },
      "execution_count": null,
      "outputs": []
    },
    {
      "cell_type": "code",
      "source": [
        "def exibir(ini=0, fim=10, passo=1):\n",
        "  for i in range(ini,fim,passo):\n",
        "    print(i)\n",
        "\n",
        "\n",
        "#exibir()\n",
        "#exibir(ini=5)\n",
        "#exibir(ini=5, fim=7)\n",
        "\n",
        "def soma(*valores):\n",
        "  s = 0\n",
        "  for valor in valores:\n",
        "    s = s + valor\n",
        "  return s\n",
        "\n",
        "print(soma(10,20,30,40,25,31,-3,0,66))"
      ],
      "metadata": {
        "id": "ul60y6zNLO_y"
      },
      "execution_count": null,
      "outputs": []
    },
    {
      "cell_type": "markdown",
      "source": [
        "#Tuplas => ( )"
      ],
      "metadata": {
        "id": "3fVwyR8YNght"
      }
    },
    {
      "cell_type": "code",
      "source": [
        "v = (10,\"20\",30.0,40,\"50\")\n",
        "\n",
        "print(v[0])\n",
        "\n",
        "#for i in v:\n",
        "  #print(i)\n",
        "\n",
        "print(v[:])\n",
        "print(v[0:2])\n",
        "print(v[1:-1])\n",
        "print(v[3:])\n",
        "print(v[::-1])\n",
        "\n",
        "mat = ( (1,2,3), (4,5,6) )\n",
        "print(mat)\n",
        "print(mat[0])\n",
        "print(mat[0][0])"
      ],
      "metadata": {
        "id": "ofMh3v8DNhc1"
      },
      "execution_count": null,
      "outputs": []
    },
    {
      "cell_type": "markdown",
      "source": [
        "#Listas => []"
      ],
      "metadata": {
        "id": "zTonIbb0Rvbf"
      }
    },
    {
      "cell_type": "code",
      "source": [
        "lista1 = []\n",
        "lista1.append(100)\n",
        "lista1.append(20)\n",
        "lista1.append(30)\n",
        "print(lista1)\n",
        "\n",
        "lista2 = [40,50,60]\n",
        "print(lista2)\n",
        "\n",
        "lista3 = []\n",
        "lista3.extend(lista1)\n",
        "lista3.extend(lista2)\n",
        "print(lista3)\n",
        "\n",
        "print(len(lista3))\n",
        "lista3.sort()\n",
        "print(lista3)\n",
        "\n",
        "lista3.insert(0,10) #insere o valor 10 na posição 0\n",
        "print(lista3)\n",
        "\n",
        "del lista3[-1]      #remove o último elemento da lista\n",
        "print(lista3)\n",
        "\n",
        "lista3.remove(60)   #remove o elemento com valor=60\n",
        "print(lista3)"
      ],
      "metadata": {
        "id": "O59Efc-RRyDe"
      },
      "execution_count": null,
      "outputs": []
    },
    {
      "cell_type": "markdown",
      "source": [
        "Dicionário => {}"
      ],
      "metadata": {
        "id": "lVxDwGFmWaaN"
      }
    },
    {
      "cell_type": "code",
      "source": [
        "dict = {}\n",
        "dict[\"nome\"] = \"João da Silva\"\n",
        "dict[\"idade\"] = 22\n",
        "\n",
        "print(dict)\n",
        "\n",
        "for chave,valor in dict.items():\n",
        "  print(\"Chave= %s\" %chave)\n",
        "  print(\"Valor= %s\\n\" %valor)"
      ],
      "metadata": {
        "colab": {
          "base_uri": "https://localhost:8080/"
        },
        "id": "Pf0ZT2IsWcXF",
        "outputId": "64e0d546-e3f3-4637-b217-43537cf6a9c6"
      },
      "execution_count": null,
      "outputs": [
        {
          "output_type": "stream",
          "name": "stdout",
          "text": [
            "{'nome': 'João da Silva', 'idade': 22}\n",
            "Chave= nome\n",
            "Valor= João da Silva\n",
            "\n",
            "Chave= idade\n",
            "Valor= 22\n",
            "\n"
          ]
        }
      ]
    },
    {
      "cell_type": "markdown",
      "source": [
        "#Grafo Não-Direcionado"
      ],
      "metadata": {
        "id": "xmIk1xR1ZyLt"
      }
    },
    {
      "cell_type": "code",
      "source": [
        "# NetworkX\n",
        "# Pacote python para criação, manipulação e estudo de grafos\n",
        "# https://networkx.org/\n",
        "import networkx as nx\n",
        "\n",
        "#Criação de um grafo não-direcionado\n",
        "G = nx.Graph()\n",
        "\n",
        "#Adicionar um vértice (nó) ao grafo\n",
        "G.add_node(\"A\")\n",
        "G.add_node(\"B\")\n",
        "G.add_node(\"C\")\n",
        "G.add_node(\"D\")\n",
        "#Adicionar vários vértices de uma vez\n",
        "G.add_nodes_from([\"E\",\"F\",\"G\",\"H\"])\n",
        "\n",
        "#Adicionar uma aresta (edge)\n",
        "G.add_edge(\"A\",\"B\")\n",
        "G.add_edge(\"A\",\"C\")\n",
        "G.add_edge(\"B\",\"C\")\n",
        "G.add_edge(\"C\",\"D\")\n",
        "#Adicionar várias arestas de uma vez\n",
        "G.add_edges_from([(\"A\",\"E\"),(\"E\",\"F\"),(\"F\",\"G\"),(\"E\",\"H\"),])\n",
        "\n",
        "#Visualizar o grafo\n",
        "nx.draw(G,with_labels=True)"
      ],
      "metadata": {
        "id": "SFDJc2oFZ188"
      },
      "execution_count": null,
      "outputs": []
    },
    {
      "cell_type": "code",
      "source": [
        "import networkx as nx\n",
        "\n",
        "G = nx.Graph()\n",
        "\n",
        "G.add_nodes_from([\"W\",\"O\",\"R\",\"L\",\"D\"])\n",
        "G.add_edges_from([(\"W\",\"O\"),(\"O\",\"R\"),(\"R\",\"L\"),(\"L\",\"D\"),])\n",
        "\n",
        "#Visualizar o grafo\n",
        "nx.draw(G,with_labels=True)"
      ],
      "metadata": {
        "id": "uqx99ttrdnan"
      },
      "execution_count": null,
      "outputs": []
    },
    {
      "cell_type": "markdown",
      "source": [
        "#Grafo Direcionado"
      ],
      "metadata": {
        "id": "xLVQKX0Ec-RU"
      }
    },
    {
      "cell_type": "code",
      "source": [
        "import networkx as nx\n",
        "\n",
        "G = nx.DiGraph()\n",
        "\n",
        "G.add_node(\"A\")\n",
        "G.add_node(\"B\")\n",
        "G.add_node(\"C\")\n",
        "G.add_node(\"D\")\n",
        "G.add_nodes_from([\"E\",\"F\",\"G\",\"H\"])\n",
        "\n",
        "G.add_edge(\"A\",\"B\")\n",
        "G.add_edge(\"A\",\"C\")\n",
        "G.add_edge(\"B\",\"C\")\n",
        "G.add_edge(\"C\",\"D\")\n",
        "G.add_edges_from([(\"A\",\"E\"),(\"E\",\"F\"),(\"F\",\"G\"),(\"E\",\"H\"),])\n",
        "\n",
        "nx.draw(G,with_labels=True)"
      ],
      "metadata": {
        "id": "P76HFNbmc_9E"
      },
      "execution_count": null,
      "outputs": []
    }
  ]
}